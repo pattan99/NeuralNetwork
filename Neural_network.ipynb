{
  "nbformat": 4,
  "nbformat_minor": 0,
  "metadata": {
    "colab": {
      "name": "Copy of Neural network.ipynb",
      "provenance": [],
      "collapsed_sections": []
    },
    "kernelspec": {
      "name": "python3",
      "display_name": "Python 3"
    },
    "language_info": {
      "name": "python"
    },
    "accelerator": "GPU"
  },
  "cells": [
    {
      "cell_type": "code",
      "execution_count": 1,
      "metadata": {
        "id": "xeO4ZSX78MGw"
      },
      "outputs": [],
      "source": [
        "import numpy as np\n",
        "import random\n",
        "import math\n",
        "import matplotlib.pyplot as plt"
      ]
    },
    {
      "cell_type": "markdown",
      "source": [
        "# Loss function"
      ],
      "metadata": {
        "id": "6Wmd6aryc6Bb"
      }
    },
    {
      "cell_type": "markdown",
      "source": [
        "## cross entropy function"
      ],
      "metadata": {
        "id": "fitk5bVcc9Fn"
      }
    },
    {
      "cell_type": "code",
      "source": [
        "def cross_entropy(Y, Y_pred):\n",
        "    # Cộng thêm 1e-9 để tránh log(0)\n",
        "    loss = np.asarray([np.sum(np.multiply(Y[i], np.log(Y_pred[i] + 1e-9))) for i in range(Y.shape[0])])\n",
        "    return -np.mean(loss)"
      ],
      "metadata": {
        "id": "JP1dWyBncMUu"
      },
      "execution_count": 2,
      "outputs": []
    },
    {
      "cell_type": "code",
      "source": [
        "Y = np.array([[1, 0, 0], [0, 0, 1]])\n",
        "Y_pred = np.array([[1, 0, 0], [0, 0, 1]])\n",
        "cross_entropy(Y, Y_pred)"
      ],
      "metadata": {
        "colab": {
          "base_uri": "https://localhost:8080/"
        },
        "id": "U5vz-VOyivGY",
        "outputId": "f369bc9c-f3f4-48ef-9bd8-f881eba1b6a4"
      },
      "execution_count": 3,
      "outputs": [
        {
          "output_type": "execute_result",
          "data": {
            "text/plain": [
              "-1.000000082240371e-09"
            ]
          },
          "metadata": {},
          "execution_count": 3
        }
      ]
    },
    {
      "cell_type": "markdown",
      "source": [
        "## Class layer"
      ],
      "metadata": {
        "id": "n_f1CAN9j3ez"
      }
    },
    {
      "cell_type": "code",
      "source": [
        "class Input_Layer:\n",
        "    def __init__(self, X, Y, output_size):\n",
        "        self.X = X\n",
        "        self.Y = Y\n",
        "\n",
        "        self.output_size = output_size"
      ],
      "metadata": {
        "id": "DYSrKjKeE1B_"
      },
      "execution_count": 4,
      "outputs": []
    },
    {
      "cell_type": "code",
      "source": [
        "class Dense_Layer:\n",
        "    def __init__(self, input_size=None, output_size=None):\n",
        "        self.input_size = input_size\n",
        "        self.output_size = output_size\n",
        "        self.W = None\n",
        "        self.B = None\n",
        "\n",
        "    def forward_propagation(self, inputs):\n",
        "        self.inputs = inputs\n",
        "        self.outputs = np.dot(inputs, self.W) + self.B\n",
        "\n",
        "    def back_propagation(self, E):\n",
        "        self.dW = np.dot(self.inputs.T, E)\n",
        "        self.dB = np.sum(E, axis=0, keepdims=True)\n",
        "        \n",
        "        self.dInputs = np.dot(E, self.W.T)"
      ],
      "metadata": {
        "id": "Up1oMcg7jBQw"
      },
      "execution_count": 5,
      "outputs": []
    },
    {
      "cell_type": "code",
      "source": [
        "class Activation_Layer:\n",
        "    def __init__(self, activation=None):\n",
        "        self.activation = activation\n",
        "        self.input_size = None\n",
        "        self.output_size = None\n",
        "\n",
        "    def forward_propagation(self, inputs):\n",
        "        self.inputs = inputs\n",
        "\n",
        "        if self.activation == 'relu':\n",
        "            self.outputs = np.maximum(0, inputs)\n",
        "        elif self.activation == 'softmax':\n",
        "            exp_values = np.exp(inputs - np.max(inputs, axis=1,\n",
        "                                                keepdims=True))\n",
        "            # Normalize them for each sample\n",
        "            probabilities = exp_values / np.sum(exp_values, axis=1,\n",
        "                                                keepdims=True)\n",
        "\n",
        "            self.outputs = probabilities\n",
        "\n",
        "    def back_propagation(self, E):\n",
        "        if self.activation == 'relu':\n",
        "            self.dInputs = E.copy()\n",
        "            self.dInputs[self.inputs <= 0] = 0\n",
        "        elif self.activation == 'softmax':\n",
        "            self.dInputs = np.empty_like(E)\n",
        "                # Enumerate outputs and gradients\n",
        "            for index, (single_output, single_dvalues) in enumerate(zip(self.outputs, E)):\n",
        "                # Flatten output array\n",
        "                single_output = single_output.reshape(-1, 1)\n",
        "                # Calculate Jacobian matrix of the output\n",
        "                jacobian_matrix = np.diagflat(single_output) - np.dot(single_output, single_output.T)\n",
        "\n",
        "                # Calculate sample-wise gradient\n",
        "                # and add it to the array of sample gradients\n",
        "                self.dInputs[index] = np.dot(jacobian_matrix, single_dvalues)"
      ],
      "metadata": {
        "id": "wOG2_etveAVr"
      },
      "execution_count": 6,
      "outputs": []
    },
    {
      "cell_type": "code",
      "source": [
        "class NeuralNetwork:\n",
        "    def __init__(self, *args):\n",
        "        self.numLayers = len(args)\n",
        "        self.layers = []\n",
        "\n",
        "        for layer in args:\n",
        "            self.layers.append(layer)\n",
        "            if len(self.layers) > 1:\n",
        "                if type(self.layers[-1]).__name__ == 'Dense_Layer':\n",
        "                    self.layers[-1].input_size = self.layers[-2].output_size\n",
        "                elif type(self.layers[-1]).__name__ == 'Activation_Layer':\n",
        "                    self.layers[-1].input_size = self.layers[-2].input_size\n",
        "                    self.layers[-1].output_size = self.layers[-2].output_size\n",
        "\n",
        "    \n",
        "    def forward_propagation(self, X):\n",
        "        for i in range(1, self.numLayers):\n",
        "            if i == 1:\n",
        "                self.layers[i].forward_propagation(X)\n",
        "            else:\n",
        "                self.layers[i].forward_propagation(self.layers[i-1].outputs)\n",
        "\n",
        "    def compute_loss(self, Y, Y_pred):\n",
        "        if self.loss == 'cross_entropy':\n",
        "            return cross_entropy(Y, Y_pred)\n",
        "\n",
        "    def back_propagation(self, Y):\n",
        "        if self.loss == 'cross_entropy':\n",
        "            self.layers[-1].dInputs = (self.layers[-1].outputs - Y) / (self.layers[-1].outputs.shape[0])\n",
        "\n",
        "        for i in range(-2, -self.numLayers, -1):\n",
        "            self.layers[i].back_propagation(self.layers[i+1].dInputs)\n",
        "\n",
        "    def update_weights(self, lr):\n",
        "        for i in range(1, self.numLayers):\n",
        "            if type(self.layers[i]).__name__ == 'Dense_Layer':\n",
        "                self.layers[i].W -= lr * self.layers[i].dW\n",
        "                self.layers[i].B -= lr * self.layers[i].dB\n",
        "\n",
        "    def predict(self, X):\n",
        "        self.forward_propagation(X)\n",
        "        return self.layers[-1].outputs\n",
        "\n",
        "    def evaluate(self, Y, Y_pred):\n",
        "        pred = np.asarray([Y_pred[i].argmax() for i in range(len(Y_pred))])\n",
        "        truth = np.asarray([Y[i].argmax() for i in range(len(Y))])\n",
        "        return np.mean(pred == truth)\n",
        "\n",
        "    def compile(self, lr=None, loss=None, seed=None):\n",
        "        self.lr = lr\n",
        "        self.loss = loss\n",
        "        self.seed = seed\n",
        "\n",
        "        np.random.seed(seed)\n",
        "        random.seed(seed)\n",
        "\n",
        "        for i in range(1, self.numLayers):\n",
        "            # print(self.layers[i].input_size, self.layers[i].output_size)\n",
        "            if type(self.layers[i]).__name__ == 'Dense_Layer':\n",
        "                self.layers[i].W = np.random.randn(self.layers[i].input_size, self.layers[i].output_size) / np.sqrt(self.layers[i].input_size * self.layers[i].output_size)\n",
        "                self.layers[i].B = np.zeros((1, self.layers[i].output_size))\n",
        "\n",
        "    def lr_exp_decay(self, epoch):\n",
        "        decay = 0.1\n",
        "        return self.lr * math.exp(-decay * epoch)\n",
        "\n",
        "    def fit(self, epochs, batch_size=None):\n",
        "        X = self.layers[0].X\n",
        "        Y = self.layers[0].Y\n",
        "\n",
        "        if batch_size == None:\n",
        "            batch_size = X.shape[0]\n",
        "\n",
        "        batches = math.ceil(X.shape[0] / batch_size)\n",
        "\n",
        "        loss_array = []\n",
        "        acc_array = []\n",
        "\n",
        "        for epoch in range(epochs):\n",
        "            loss_accumulated = 0\n",
        "            acc_accumulated = 0\n",
        "\n",
        "            for batch in range(batches):\n",
        "                batch_X = X[batch_size*batch:min(batch_size*(batch+1), X.shape[0])]\n",
        "                batch_Y = Y[batch_size*batch:min(batch_size*(batch+1), X.shape[0])]\n",
        "\n",
        "                self.forward_propagation(batch_X)\n",
        "                self.back_propagation(batch_Y)\n",
        "                self.update_weights(self.lr_exp_decay(epoch))\n",
        "\n",
        "                loss_score = self.compute_loss(batch_Y, self.layers[-1].outputs)\n",
        "\n",
        "                Y_pred = self.predict(batch_X)\n",
        "                acc = self.evaluate(batch_Y, Y_pred)\n",
        "\n",
        "                loss_accumulated += loss_score\n",
        "                acc_accumulated += acc\n",
        "\n",
        "            loss_accumulated /= batches\n",
        "            acc_accumulated /= batches\n",
        "\n",
        "            loss_array.append(loss_accumulated)\n",
        "            acc_array.append(acc_accumulated)\n",
        "            \n",
        "            print(f'Epoch {epoch+1}/{epochs}: loss: {loss_accumulated} - acc: {acc_accumulated}')\n",
        "            \n",
        "        return [acc_array, loss_array]"
      ],
      "metadata": {
        "id": "05RFrk9xKszo"
      },
      "execution_count": 7,
      "outputs": []
    },
    {
      "cell_type": "markdown",
      "source": [
        "# Load dữ liệu"
      ],
      "metadata": {
        "id": "_xcmQOC7ZIY5"
      }
    },
    {
      "cell_type": "code",
      "source": [
        "from keras.datasets import mnist\n",
        "(train_X, train_y), (test_X, test_y) = mnist.load_data()\n",
        "\n",
        "def to_one_hot(labels, dimension):\n",
        "    result = np.zeros((len(labels), dimension), dtype = np.uint8)\n",
        "    for i, label in enumerate(labels):\n",
        "        result[i, label] = 1\n",
        "    return np.asarray(result)\n",
        "\n",
        "print('X_train: ' + str(train_X.shape))\n",
        "print('Y_train: ' + str(train_y.shape))\n",
        "\n",
        "# Normalize\n",
        "train_X = (train_X / 255).astype(np.float64)\n",
        "test_X = (test_X / 255).astype(np.float64)\n",
        "train_size = train_X.shape[0]\n",
        "test_size = test_X.shape[0]\n",
        "\n",
        "# Flatten data\n",
        "trainX = np.asarray([train_X[i].flatten() for i in range(train_size)])\n",
        "testX = np.asarray([test_X[i].flatten() for i in range(test_size)])\n",
        "\n",
        "# Encode label to one hot\n",
        "trainY = to_one_hot(train_y, 10)\n",
        "testY = to_one_hot(test_y, 10)\n",
        "print(trainY.shape)"
      ],
      "metadata": {
        "colab": {
          "base_uri": "https://localhost:8080/"
        },
        "id": "R_z7Y3XrYxcz",
        "outputId": "f17b3965-4bfd-486b-f47c-4980613c0cb5"
      },
      "execution_count": 8,
      "outputs": [
        {
          "output_type": "stream",
          "name": "stdout",
          "text": [
            "Downloading data from https://storage.googleapis.com/tensorflow/tf-keras-datasets/mnist.npz\n",
            "11493376/11490434 [==============================] - 0s 0us/step\n",
            "11501568/11490434 [==============================] - 0s 0us/step\n",
            "X_train: (60000, 28, 28)\n",
            "Y_train: (60000,)\n",
            "(60000, 10)\n"
          ]
        }
      ]
    },
    {
      "cell_type": "markdown",
      "source": [
        "# Taọ model"
      ],
      "metadata": {
        "id": "SqN2HuiVaHV_"
      }
    },
    {
      "cell_type": "code",
      "source": [
        "model = NeuralNetwork(Input_Layer(trainX, trainY, output_size=28*28),\n",
        "                      \n",
        "                      Dense_Layer(output_size=512),\n",
        "                      Activation_Layer('relu'),\n",
        "\n",
        "                      Dense_Layer(output_size=10),\n",
        "                      Activation_Layer('softmax'))\n",
        "\n",
        "model.compile(lr=0.5, loss='cross_entropy', seed=123)\n",
        "history = model.fit(epochs=20, batch_size=128)"
      ],
      "metadata": {
        "id": "0Y4xzvk1aFCm",
        "colab": {
          "base_uri": "https://localhost:8080/"
        },
        "outputId": "33b10212-a19d-458f-8517-8477b3a07985"
      },
      "execution_count": 9,
      "outputs": [
        {
          "output_type": "stream",
          "name": "stdout",
          "text": [
            "Epoch 1/20: loss: 0.35649148944028225 - acc: 0.9318974324804549\n",
            "Epoch 2/20: loss: 0.1353297279220058 - acc: 0.9833533226723525\n",
            "Epoch 3/20: loss: 0.09393587569771557 - acc: 0.9904828535891969\n",
            "Epoch 4/20: loss: 0.07246686555355894 - acc: 0.9935478855721392\n",
            "Epoch 5/20: loss: 0.058655681983694904 - acc: 0.9951636904761905\n",
            "Epoch 6/20: loss: 0.049138527661515274 - acc: 0.9962131307746979\n",
            "Epoch 7/20: loss: 0.04215472440348173 - acc: 0.9969793887704335\n",
            "Epoch 8/20: loss: 0.03680775787622174 - acc: 0.9973958333333333\n",
            "Epoch 9/20: loss: 0.03263999198612085 - acc: 0.9976790156361052\n",
            "Epoch 10/20: loss: 0.02933364717142687 - acc: 0.997928882373845\n",
            "Epoch 11/20: loss: 0.02663046768556808 - acc: 0.9981454335465529\n",
            "Epoch 12/20: loss: 0.02444646914832522 - acc: 0.9983286691542288\n",
            "Epoch 13/20: loss: 0.022657869389633555 - acc: 0.9984952469793887\n",
            "Epoch 14/20: loss: 0.021161340968024276 - acc: 0.9985785358919687\n",
            "Epoch 15/20: loss: 0.019911080520063126 - acc: 0.9986451670220327\n",
            "Epoch 16/20: loss: 0.01886014069247327 - acc: 0.9986784825870646\n",
            "Epoch 17/20: loss: 0.017965952785301668 - acc: 0.9986951403695806\n",
            "Epoch 18/20: loss: 0.017201920563052364 - acc: 0.9986784825870646\n",
            "Epoch 19/20: loss: 0.01654356861279476 - acc: 0.9987117981520967\n",
            "Epoch 20/20: loss: 0.01597206505453012 - acc: 0.9987617714996446\n"
          ]
        }
      ]
    },
    {
      "cell_type": "code",
      "source": [
        "epoch_axis = list(range(1, 21))\n",
        "\n",
        "plt.xlabel('Epochs')\n",
        "plt.ylabel('Accuracy')\n",
        "plt.title('Accuracy')\n",
        "plt.plot(epoch_axis, history[0])"
      ],
      "metadata": {
        "colab": {
          "base_uri": "https://localhost:8080/",
          "height": 313
        },
        "id": "gLvp_4Xd3JHR",
        "outputId": "093e0823-74a0-4a29-b2d5-d5a970ef2ceb"
      },
      "execution_count": 10,
      "outputs": [
        {
          "output_type": "execute_result",
          "data": {
            "text/plain": [
              "[<matplotlib.lines.Line2D at 0x7f89ce892d50>]"
            ]
          },
          "metadata": {},
          "execution_count": 10
        },
        {
          "output_type": "display_data",
          "data": {
            "text/plain": [
              "<Figure size 432x288 with 1 Axes>"
            ],
            "image/png": "[encoded data removed]"
          },
          "metadata": {
            "needs_background": "light"
          }
        }
      ]
    },
    {
      "cell_type": "code",
      "source": [
        "plt.xlabel('Epochs')\n",
        "plt.ylabel('Loss')\n",
        "plt.title('Loss')\n",
        "plt.plot(epoch_axis, history[1])"
      ],
      "metadata": {
        "colab": {
          "base_uri": "https://localhost:8080/",
          "height": 313
        },
        "id": "h-3mB_VA3omX",
        "outputId": "941afda3-6baf-4cd5-bab4-587d08b281f8"
      },
      "execution_count": 11,
      "outputs": [
        {
          "output_type": "execute_result",
          "data": {
            "text/plain": [
              "[<matplotlib.lines.Line2D at 0x7f89cc059890>]"
            ]
          },
          "metadata": {},
          "execution_count": 11
        },
        {
          "output_type": "display_data",
          "data": {
            "text/plain": [
              "<Figure size 432x288 with 1 Axes>"
            ],
            "image/png": "[encoded data removed]"
          },
          "metadata": {
            "needs_background": "light"
          }
        }
      ]
    },
    {
      "cell_type": "code",
      "source": [
        "model.evaluate(model.predict(testX), testY)"
      ],
      "metadata": {
        "colab": {
          "base_uri": "https://localhost:8080/"
        },
        "id": "Fl8Abcm1-Bba",
        "outputId": "73d9128b-e762-4a34-82b0-7507d84f0a64"
      },
      "execution_count": 12,
      "outputs": [
        {
          "output_type": "execute_result",
          "data": {
            "text/plain": [
              "0.9817"
            ]
          },
          "metadata": {},
          "execution_count": 12
        }
      ]
    }
  ]
}